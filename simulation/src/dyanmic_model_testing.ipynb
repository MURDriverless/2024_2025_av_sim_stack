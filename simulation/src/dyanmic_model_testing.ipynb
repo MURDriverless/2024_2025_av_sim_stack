{
 "cells": [
  {
   "cell_type": "code",
   "execution_count": 1,
   "metadata": {},
   "outputs": [],
   "source": [
    "import numpy as np\n",
    "from scipy.spatial import QhullError\n",
    "import csv"
   ]
  },
  {
   "cell_type": "code",
   "execution_count": 2,
   "metadata": {},
   "outputs": [],
   "source": [
    "from world import World\n",
    "from track import Track\n",
    "from state import State\n",
    "from vehicle import Car\n",
    "from control import PurePursuit\n",
    "from control import MPC\n",
    "from lidar import Lidar\n",
    "from camera import Stereo"
   ]
  },
  {
   "cell_type": "code",
   "execution_count": 3,
   "metadata": {},
   "outputs": [
    {
     "name": "stdout",
     "output_type": "stream",
     "text": [
      "197\n"
     ]
    }
   ],
   "source": [
    "cones = []\n",
    "\n",
    "with open('fs_track.csv', 'r') as file:\n",
    "    reader = csv.reader(file)\n",
    "    next(reader)\n",
    "    for row in reader:\n",
    "        if not row:  # skip empty rows\n",
    "            continue\n",
    "        x, y, obj_type, color = row\n",
    "        if color == 'black':\n",
    "            continue\n",
    "        cones.append([[float(x), float(y)], color])\n",
    "\n",
    "print(len(cones))"
   ]
  },
  {
   "cell_type": "code",
   "execution_count": 4,
   "metadata": {},
   "outputs": [
    {
     "name": "stdout",
     "output_type": "stream",
     "text": [
      "Adding LIDAR\n",
      "Adding Camera\n",
      "Adding Controller\n"
     ]
    }
   ],
   "source": [
    "earth = World(\"Earth\")\n",
    "test_track = Track(earth, 'Test Track', cones)\n",
    "# test_car = Car(earth, test_track, \"Test Car\", State([7.3183246514301645, 23.184298446159193, np.deg2rad(141.83458385569162), 0.001, 0, 0, 0]))\n",
    "test_car = Car(earth, test_track, \"Test Car\", State([test_track.start_point[0], test_track.start_point[1], test_track.start_angle, 0.001, 0, 0, 0]))\n",
    "\n",
    "test_lidar = Lidar()\n",
    "test_cam = Stereo()\n",
    "pure_pursuit = PurePursuit(4, 20, 100, 6000)\n",
    "mpc_controller = MPC(test_car, 5)\n",
    "\n",
    "print(\"Adding LIDAR\")\n",
    "test_car.add_lidar(test_lidar)\n",
    "print(\"Adding Camera\")\n",
    "test_car.add_camera(test_cam)\n",
    "print(\"Adding Controller\")\n",
    "test_car.add_controller(pure_pursuit)"
   ]
  },
  {
   "cell_type": "code",
   "execution_count": 5,
   "metadata": {},
   "outputs": [
    {
     "data": {
      "image/png": "[encoded data removed]",
      "text/plain": [
       "<Figure size 1000x100 with 1 Axes>"
      ]
     },
     "metadata": {},
     "output_type": "display_data"
    }
   ],
   "source": [
    "test_cam.plot_camera()"
   ]
  },
  {
   "cell_type": "code",
   "execution_count": 6,
   "metadata": {},
   "outputs": [
    {
     "name": "stdout",
     "output_type": "stream",
     "text": [
      "START\n",
      "State(x=1.2984018046246528e-06, y=1.9723435515183107e-06, yaw=56.66245391054971, u=0.003722705022952623, v=-2.1284414625245265e-06, w=-1.1202323486971195e-06, delta=-0.05)\n",
      "State(x=0.005850876130507299, y=0.0007426109503020451, yaw=56.66245391054971, u=0.003601492901793372, v=-1.8704485579760991e-06, w=-9.335269572475996e-07, delta=-0.05)\n",
      "State(x=0.7098040753937693, y=0.9112236060368691, yaw=54.53956694183489, u=2.177609076974289, v=-0.11621482384746139, w=-0.06209754656736095, delta=-4.670616880873034)\n",
      "State(x=0.6926845964547628, y=0.9181782007974474, yaw=54.47914613478378, u=2.1776074142131923, v=-0.1165054580329476, w=-0.06226464092185421, delta=-4.670616880873034)\n",
      "State(x=2.6893629896609936, y=3.2493234413208887, yaw=50.325646377481796, u=3.949149277409177, v=-0.12293622572761093, w=-0.06656044410453872, delta=-2.823031851690679)\n",
      "State(x=2.658801475001634, y=3.263441982796778, yaw=50.368224401348606, u=3.9491487761323705, v=-0.12320016745523117, w=-0.06665840934949577, delta=-2.823031851690679)\n",
      "State(x=6.302169651691331, y=7.384084301109029, yaw=50.314174132681565, u=6.736176455465566, v=0.34540420080014184, w=0.20791892083931499, delta=4.9975331836650305)\n",
      "State(x=6.275471167284628, y=7.370504111866092, yaw=50.31956224689827, u=6.736167039771096, v=0.3456604959204679, w=0.20811370589521072, delta=4.9975331836650305)\n",
      "State(x=9.803131892664458, y=13.063620444494848, yaw=65.29559845144944, u=5.657492069088606, v=0.6318645800644829, w=0.3611176553983783, delta=10.197328294511253)\n",
      "State(x=9.79292438537787, y=13.041346487322715, yaw=65.26478499335734, u=5.657403642037397, v=0.6322806117622162, w=0.3614251605232469, delta=10.197328294511253)\n",
      "State(x=10.43143975778368, y=17.8279044522921, yaw=86.44079150651166, u=3.977776113334012, v=0.7339265653594155, w=0.39881810774584464, delta=15.917247632156277)\n",
      "State(x=10.423534714293135, y=17.809923579877292, yaw=86.46416446371667, u=3.9775941949672253, v=0.7344738780384994, w=0.3991417528462952, delta=15.917247632156277)\n",
      "State(x=9.262788485773203, y=20.995101852584764, yaw=109.55453735482241, u=2.815186338178722, v=0.638774540290822, w=0.3474688248843805, delta=20.18083643232523)\n",
      "State(x=9.24838757795518, y=20.98544576875247, yaw=109.6211094085445, u=2.815401598708185, v=0.6394201386119204, w=0.3477514493074149, delta=20.18083643232523)\n",
      "State(x=7.601871872565725, y=22.918922208674953, yaw=126.50441656324743, u=2.2424716425516085, v=0.48532156046544916, w=0.2593061173891209, delta=18.505549335254173)\n",
      "State(x=7.59323457091061, y=22.90904800793676, yaw=126.45755375831044, u=2.2424610969975824, v=0.4853014369082693, w=0.2593179182887142, delta=18.505549335254173)\n",
      "State(x=5.864708253142521, y=24.21956152848986, yaw=138.54621208042553, u=2.0733247003062725, v=0.3439618661919079, w=0.18278331722312838, delta=14.313538286704878)\n",
      "State(x=5.884727632879307, y=24.216301703809638, yaw=138.60655896870668, u=2.0733167586572354, v=0.3440019573447325, w=0.18280234095168477, delta=14.313538286704878)\n",
      "State(x=3.9887446256818366, y=25.22329941267869, yaw=148.04675291638705, u=2.169288458080494, v=0.2938126933763328, w=0.15762798627000876, delta=12.112125937415465)\n",
      "State(x=4.0271908923623885, y=25.226608129454533, yaw=148.11616798727772, u=2.1693177495578384, v=0.2940055744283345, w=0.1577036475693557, delta=12.112125937415465)\n",
      "State(x=1.8176323072848393, y=26.06809741897582, yaw=156.06851716671866, u=2.5108424968818364, v=0.23457790313484705, w=0.1254473420620655, delta=8.130072328522138)\n",
      "State(x=1.8200266935033513, y=26.0388762136366, yaw=156.02649023239206, u=2.510830156973635, v=0.23420638658929058, w=0.12527868847506587, delta=8.130072328522138)\n",
      "State(x=-0.9953839457013012, y=26.926527562462095, yaw=161.80055456806411, u=3.6407998045176218, v=0.11567911794816513, w=0.0630740682730992, delta=2.9603630781132795)\n",
      "State(x=-0.981202188739333, y=26.896634653170125, yaw=161.74514562444264, u=3.640805388874269, v=0.11586558524817388, w=0.0631192242885061, delta=2.9603630781132795)\n",
      "State(x=-5.78276172611397, y=28.74517493207899, yaw=156.6650749326107, u=5.28930524482866, v=-0.39702513919118415, w=-0.22493366443692053, delta=-6.783359938413805)\n",
      "State(x=-5.758519898479214, y=28.71643618418012, yaw=156.72207015663167, u=5.289260730831261, v=-0.39740390194413994, w=-0.22524265722335998, delta=-6.783359938413805)\n",
      "State(x=-10.267855284582188, y=31.45463546583625, yaw=148.67153640891874, u=6.306750122784878, v=-0.024300788829348403, w=-0.011595243226174156, delta=-0.17415635902847343)\n",
      "State(x=-10.254744469007465, y=31.44435147412549, yaw=148.71084752511558, u=6.30674996299878, v=-0.02302415082834914, w=-0.010922611889474925, delta=-0.17415635902847343)\n",
      "State(x=-15.970401101126807, y=33.93477002451003, yaw=161.42188498301624, u=5.43125288969621, v=0.5423942245231961, w=0.3086770623512109, delta=9.725164550850996)\n",
      "State(x=-15.949920208193916, y=33.945012072532144, yaw=161.4814996645162, u=5.431317839562094, v=0.5443565777252702, w=0.309479897785841, delta=9.725164550850996)\n",
      "State(x=-20.467867271045378, y=33.79516301495971, yaw=185.18535350511132, u=3.7207463505965137, v=0.6743315687375719, w=0.3674065971474866, delta=16.28524113933568)\n",
      "State(x=-20.443131396095367, y=33.78705192034712, yaw=185.2150482319467, u=3.720812751671713, v=0.6760593171369993, w=0.36812403996238263, delta=16.28524113933568)\n",
      "State(x=-23.51311483825909, y=32.47662125850148, yaw=201.7978853231168, u=3.028718685237537, v=0.3463749890341744, w=0.18531565117880044, delta=10.10185849216397)\n",
      "State(x=-23.497366946351157, y=32.48527916978606, yaw=201.77675548114763, u=3.028698360847958, v=0.34790883860503247, w=0.18606188069034435, delta=10.10185849216397)\n",
      "State(x=-26.244971010854357, y=30.849798910842175, yaw=209.3703842150949, u=3.712014641210039, v=0.12303216677206688, w=0.06750382473476678, delta=3.0742667043548617)\n",
      "State(x=-26.232854573420926, y=30.86324000543647, yaw=209.44049406233697, u=3.71201901276651, v=0.12323193879944666, w=0.06758267014225211, delta=3.0742667043548617)\n",
      "State(x=-31.414655612811828, y=27.90608289785564, yaw=208.73512166222497, u=7.71548608429252, v=-0.1121940502142251, w=-0.0737979992647577, delta=-1.8016837254650004)\n",
      "State(x=-31.386408289337695, y=27.899752131300183, yaw=208.68966908849788, u=7.715500294933387, v=-0.11199434901847607, w=-0.0736087301838651, delta=-1.8016837254650004)\n"
     ]
    },
    {
     "ename": "KeyboardInterrupt",
     "evalue": "",
     "output_type": "error",
     "traceback": [
      "\u001b[0;31m---------------------------------------------------------------------------\u001b[0m",
      "\u001b[0;31mKeyboardInterrupt\u001b[0m                         Traceback (most recent call last)",
      "Cell \u001b[0;32mIn[6], line 14\u001b[0m\n\u001b[1;32m     11\u001b[0m test_car\u001b[39m.\u001b[39madd_controller(pure_pursuit)\n\u001b[1;32m     13\u001b[0m \u001b[39mtry\u001b[39;00m:\n\u001b[0;32m---> 14\u001b[0m     test_car\u001b[39m.\u001b[39;49mstart_controller()\n\u001b[1;32m     15\u001b[0m \u001b[39mexcept\u001b[39;00m QhullError \u001b[39mas\u001b[39;00m e:\n\u001b[1;32m     16\u001b[0m     \u001b[39mprint\u001b[39m(\u001b[39m\"\u001b[39m\u001b[39mQhullError encountered:\u001b[39m\u001b[39m\"\u001b[39m, e)\n",
      "File \u001b[0;32m~/Desktop/CAPSTONE/MAINN/2024_2025_av_sim_stack/simulation/src/vehicle.py:229\u001b[0m, in \u001b[0;36mCar.start_controller\u001b[0;34m(self)\u001b[0m\n\u001b[1;32m    226\u001b[0m \u001b[39mdef\u001b[39;00m\u001b[39m \u001b[39m\u001b[39mstart_controller\u001b[39m(\u001b[39mself\u001b[39m):\n\u001b[1;32m    228\u001b[0m     \u001b[39mself\u001b[39m\u001b[39m.\u001b[39mgpu\u001b[39m.\u001b[39mstart \u001b[39m=\u001b[39m \u001b[39mTrue\u001b[39;00m\n\u001b[0;32m--> 229\u001b[0m     \u001b[39mself\u001b[39;49m\u001b[39m.\u001b[39;49mgpu\u001b[39m.\u001b[39;49mupdate()\n",
      "File \u001b[0;32m~/Desktop/CAPSTONE/MAINN/2024_2025_av_sim_stack/simulation/src/gpu.py:238\u001b[0m, in \u001b[0;36mGPU.update\u001b[0;34m(self)\u001b[0m\n\u001b[1;32m    234\u001b[0m         \u001b[39mself\u001b[39m\u001b[39m.\u001b[39mmap \u001b[39m=\u001b[39m \u001b[39mself\u001b[39m\u001b[39m.\u001b[39mcar_to_world(\u001b[39mself\u001b[39m\u001b[39m.\u001b[39mlidar_data)\n\u001b[1;32m    237\u001b[0m     \u001b[39melse\u001b[39;00m:\n\u001b[0;32m--> 238\u001b[0m         \u001b[39mself\u001b[39m\u001b[39m.\u001b[39mlidar_data \u001b[39m=\u001b[39m \u001b[39mself\u001b[39;49m\u001b[39m.\u001b[39;49mlidar\u001b[39m.\u001b[39;49mupdate()\n\u001b[1;32m    239\u001b[0m         \u001b[39mself\u001b[39m\u001b[39m.\u001b[39mmap \u001b[39m=\u001b[39m \u001b[39mself\u001b[39m\u001b[39m.\u001b[39mcar_to_world(\u001b[39mself\u001b[39m\u001b[39m.\u001b[39mlidar_data)\n\u001b[1;32m    242\u001b[0m \u001b[39mif\u001b[39;00m (\u001b[39mnot\u001b[39;00m \u001b[39mself\u001b[39m\u001b[39m.\u001b[39mcar\u001b[39m.\u001b[39mlap_finish) \u001b[39mand\u001b[39;00m (\u001b[39mself\u001b[39m\u001b[39m.\u001b[39mcamera) \u001b[39mand\u001b[39;00m (i \u001b[39m%\u001b[39m \u001b[39m100\u001b[39m \u001b[39m==\u001b[39m \u001b[39m0\u001b[39m):\n",
      "File \u001b[0;32m~/Desktop/CAPSTONE/MAINN/2024_2025_av_sim_stack/simulation/src/lidar.py:511\u001b[0m, in \u001b[0;36mLidar.update\u001b[0;34m(self, track)\u001b[0m\n\u001b[1;32m    508\u001b[0m     \u001b[39mself\u001b[39m\u001b[39m.\u001b[39msense_angle_max \u001b[39m=\u001b[39m \u001b[39mself\u001b[39m\u001b[39m.\u001b[39mangle_max \u001b[39m+\u001b[39m \u001b[39mself\u001b[39m\u001b[39m.\u001b[39msense_yaw\n\u001b[1;32m    509\u001b[0m     track \u001b[39m=\u001b[39m \u001b[39mself\u001b[39m\u001b[39m.\u001b[39mcar\u001b[39m.\u001b[39mtrack\n\u001b[0;32m--> 511\u001b[0m \u001b[39mself\u001b[39;49m\u001b[39m.\u001b[39;49msense_obstacle_fast_cones(track)\n\u001b[1;32m    512\u001b[0m \u001b[39mself\u001b[39m\u001b[39m.\u001b[39mclusters \u001b[39m=\u001b[39m \u001b[39mself\u001b[39m\u001b[39m.\u001b[39mfast_euclidean_clustering()\n\u001b[1;32m    513\u001b[0m \u001b[39mself\u001b[39m\u001b[39m.\u001b[39mclusters_filt \u001b[39m=\u001b[39m \u001b[39mself\u001b[39m\u001b[39m.\u001b[39mget_filtered_clusters_from_clusters(\u001b[39mself\u001b[39m\u001b[39m.\u001b[39mclusters)\n",
      "File \u001b[0;32m~/Desktop/CAPSTONE/MAINN/2024_2025_av_sim_stack/simulation/src/lidar.py:123\u001b[0m, in \u001b[0;36mLidar.sense_obstacle_fast_cones\u001b[0;34m(self, track)\u001b[0m\n\u001b[1;32m    120\u001b[0m hit \u001b[39m=\u001b[39m \u001b[39mself\u001b[39m\u001b[39m.\u001b[39mray_circle_intersection(\u001b[39mself\u001b[39m\u001b[39m.\u001b[39mpos_c, ray_dir, np\u001b[39m.\u001b[39marray([cone\u001b[39m.\u001b[39mx, cone\u001b[39m.\u001b[39my]), cone\u001b[39m.\u001b[39mradius)\n\u001b[1;32m    122\u001b[0m \u001b[39mif\u001b[39;00m hit \u001b[39mis\u001b[39;00m \u001b[39mnot\u001b[39;00m \u001b[39mNone\u001b[39;00m:\n\u001b[0;32m--> 123\u001b[0m     hit_dist \u001b[39m=\u001b[39m np\u001b[39m.\u001b[39;49mlinalg\u001b[39m.\u001b[39;49mnorm(hit)\n\u001b[1;32m    124\u001b[0m     \u001b[39mif\u001b[39;00m hit_dist \u001b[39m<\u001b[39m data[idx][\u001b[39m'\u001b[39m\u001b[39mdistance\u001b[39m\u001b[39m'\u001b[39m]:\n\u001b[1;32m    125\u001b[0m \n\u001b[1;32m    126\u001b[0m         \u001b[39m# Range-dependent noise std (precision)\u001b[39;00m\n\u001b[1;32m    127\u001b[0m         sigma_range \u001b[39m=\u001b[39m \u001b[39m0.005\u001b[39m \u001b[39m+\u001b[39m (\u001b[39m0.03\u001b[39m \u001b[39m-\u001b[39m \u001b[39m0.005\u001b[39m) \u001b[39m*\u001b[39m (hit_dist \u001b[39m/\u001b[39m \u001b[39mself\u001b[39m\u001b[39m.\u001b[39mrange_max)\n",
      "File \u001b[0;32m/Library/Frameworks/Python.framework/Versions/3.10/lib/python3.10/site-packages/numpy/linalg/linalg.py:2379\u001b[0m, in \u001b[0;36m_norm_dispatcher\u001b[0;34m(x, ord, axis, keepdims)\u001b[0m\n\u001b[1;32m   2375\u001b[0m     result \u001b[39m=\u001b[39m op(svd(y, compute_uv\u001b[39m=\u001b[39m\u001b[39mFalse\u001b[39;00m), axis\u001b[39m=\u001b[39m\u001b[39m-\u001b[39m\u001b[39m1\u001b[39m)\n\u001b[1;32m   2376\u001b[0m     \u001b[39mreturn\u001b[39;00m result\n\u001b[0;32m-> 2379\u001b[0m \u001b[39mdef\u001b[39;00m\u001b[39m \u001b[39m\u001b[39m_norm_dispatcher\u001b[39m(x, \u001b[39mord\u001b[39m\u001b[39m=\u001b[39m\u001b[39mNone\u001b[39;00m, axis\u001b[39m=\u001b[39m\u001b[39mNone\u001b[39;00m, keepdims\u001b[39m=\u001b[39m\u001b[39mNone\u001b[39;00m):\n\u001b[1;32m   2380\u001b[0m     \u001b[39mreturn\u001b[39;00m (x,)\n\u001b[1;32m   2383\u001b[0m \u001b[39m@array_function_dispatch\u001b[39m(_norm_dispatcher)\n\u001b[1;32m   2384\u001b[0m \u001b[39mdef\u001b[39;00m\u001b[39m \u001b[39m\u001b[39mnorm\u001b[39m(x, \u001b[39mord\u001b[39m\u001b[39m=\u001b[39m\u001b[39mNone\u001b[39;00m, axis\u001b[39m=\u001b[39m\u001b[39mNone\u001b[39;00m, keepdims\u001b[39m=\u001b[39m\u001b[39mFalse\u001b[39;00m):\n",
      "\u001b[0;31mKeyboardInterrupt\u001b[0m: "
     ]
    }
   ],
   "source": [
    "earth = World(\"Earth\")\n",
    "test_track = Track(earth, 'Test Track', cones)\n",
    "test_car = Car(earth, test_track, \"Test Car\", State([test_track.start_point[0], test_track.start_point[1], test_track.start_angle, 0.001, 0, 0, 0]))\n",
    "\n",
    "test_lidar = Lidar()\n",
    "test_cam = Stereo()\n",
    "pure_pursuit = PurePursuit(4, 20, 100, 6000)\n",
    "\n",
    "test_car.add_lidar(test_lidar)\n",
    "test_car.add_camera(test_cam)\n",
    "test_car.add_controller(pure_pursuit)\n",
    "\n",
    "try:\n",
    "    test_car.start_controller()\n",
    "except QhullError as e:\n",
    "    print(\"QhullError encountered:\", e)\n",
    "    test_car.gpu.plotting()\n",
    "else:\n",
    "    print('SIMULATION COMPLETE')\n"
   ]
  },
  {
   "cell_type": "code",
   "execution_count": null,
   "metadata": {},
   "outputs": [],
   "source": []
  },
  {
   "cell_type": "markdown",
   "metadata": {},
   "source": []
  }
 ],
 "metadata": {
  "kernelspec": {
   "display_name": "sklearn-env",
   "language": "python",
   "name": "python3"
  },
  "language_info": {
   "codemirror_mode": {
    "name": "ipython",
    "version": 3
   },
   "file_extension": ".py",
   "mimetype": "text/x-python",
   "name": "python",
   "nbconvert_exporter": "python",
   "pygments_lexer": "ipython3",
   "version": "3.10.5"
  },
  "orig_nbformat": 4
 },
 "nbformat": 4,
 "nbformat_minor": 2
}
